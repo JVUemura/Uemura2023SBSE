{
 "cells": [
  {
   "cell_type": "markdown",
   "id": "9009da5c",
   "metadata": {},
   "source": [
    "### Libraries:\n",
    "In principle, it is necessary to import the libraries that will be used to raise the lookup tables."
   ]
  },
  {
   "cell_type": "code",
   "execution_count": 16,
   "id": "02d8d1fc",
   "metadata": {},
   "outputs": [],
   "source": [
    "# Required Libraries\n",
    "import numpy as np\n",
    "import scipy.optimize as sci\n",
    "import matplotlib.pyplot as plt\n",
    "from scipy.optimize import root_scalar as root\n",
    "import pandas as pd"
   ]
  },
  {
   "cell_type": "markdown",
   "id": "c7b66143",
   "metadata": {},
   "source": [
    "### Input data user:\n",
    "It is necessary to declare the parameters associated with the wind turbine."
   ]
  },
  {
   "cell_type": "code",
   "execution_count": 17,
   "id": "40e9b850",
   "metadata": {},
   "outputs": [],
   "source": [
    "# Mech data\n",
    "R = 37.5 # m\n",
    "N = 111.5\n",
    "\n",
    "# Power coefficient constants\n",
    "C = [0.22,116,0.4,0,0,5,12.5,0.08,0.035]\n",
    "\n",
    "# Nominal power\n",
    "P_nom = 2 # MW\n",
    "\n",
    "# Air density\n",
    "par = 1.225 #kg/m³\n",
    "\n",
    "# Turbina data\n",
    "Nmin_tur = 13 # rpm\n",
    "Nnom_tur = 18 # rpm\n",
    "\n",
    "# Speed wind data \n",
    "Vw_min =  4 # m/s\n",
    "Vw_nom = 12 # m/s\n",
    "Vw_max = 25 # m/s\n",
    "\n",
    "# Number of steps per region\n",
    "nstep = 15"
   ]
  },
  {
   "cell_type": "markdown",
   "id": "1cab6a76",
   "metadata": {},
   "source": [
    "### Raising the maximum power coefficient:\n",
    "To determine the minimum and maximum turbine speeds, that is, the references of regions 1 and 3, it is necessary to find the optimal value of the power coefficient."
   ]
  },
  {
   "cell_type": "markdown",
   "id": "0478c717",
   "metadata": {},
   "source": [
    "\\begin{gather}\n",
    "\tC_p(\\lambda, \\beta) = C_1 \\left(\\frac{C_2}{\\alpha(\\lambda, \\beta)} - C_3\\,\\beta - C_4\\,\\beta ^{C_5} - C_6 \\right) e^{-\\frac{C_7}{\\alpha(\\lambda, \\beta)}}\n",
    "\t\\label{eq:G3_powerCoef1}\n",
    "\\end{gather}\n",
    "\n",
    "\\begin{gather}\n",
    "\t\\frac{1}{\\alpha(\\lambda, \\beta)} =  \\frac{1}{\\lambda - C_8\\, \\beta} - \\frac{C_9}{\\beta^3 + 1}\n",
    "\t\\label{eq:G3_powerCoef2}\n",
    "\\end{gather}"
   ]
  },
  {
   "cell_type": "code",
   "execution_count": 18,
   "id": "962fc4ed",
   "metadata": {
    "scrolled": true
   },
   "outputs": [
    {
     "name": "stdout",
     "output_type": "stream",
     "text": [
      "Convergent -> True\n",
      "Maximum power coefficient -> 0.4382090105978689\n",
      "Lambda optimum -> 6.324969981694354\n",
      "Beta optimum -> 0.0\n"
     ]
    }
   ],
   "source": [
    "# Raising the maximum power coefficient \n",
    "def CP(x):\n",
    "  alpha = (1 / (x[0]+ x[1] * C[7]) - C[8] / (x[1] ** 3 + 1))**-1\n",
    "  cp = C[0] * (C[1] / alpha - C[2] * x[1] - C[3] * x[1] ** C[4] - C[5]) * np.exp(-C[6] / alpha)\n",
    "  return -cp\n",
    "\n",
    "# Performing the optimization\n",
    "opt = sci.minimize(CP,[1,0], bounds = [[0, 30],[0, 30]])\n",
    "\n",
    "LBD_opt = opt.x[0]  # Lambda optimum\n",
    "Beta_opt = opt.x[1] # Beta optimum\n",
    "CP_opt = -opt.fun   # CP optimum\n",
    "\n",
    "print(f'Convergent -> {opt.success}')\n",
    "print(f'Maximum power coefficient -> {-opt.fun}')\n",
    "print(f'Lambda optimum -> {opt.x[0]}')\n",
    "print(f'Beta optimum -> {opt.x[1]}')"
   ]
  },
  {
   "cell_type": "markdown",
   "id": "0072c610",
   "metadata": {},
   "source": [
    "### Region 1 and 3: Following the minimum and nominal speed\n",
    "For the investigation of region 1, it is necessary to define the minimum speed reference together with the wind speed that results in this minimum speed.\n",
    "\n",
    "\\begin{align}\n",
    "    V_w^{\\omega_{min}} = n_{tur}^{min} \\left(\\frac{2\\,\\pi}{60}\\right)\\,\\frac{R}{\\lambda_{opt}}\n",
    "\\end{align}\n",
    "\n",
    "For the investigation of region 3, it is necessary to define the nominal speed reference together with the wind speed that results in this nominal speed.\n",
    "\n",
    "\\begin{align}\n",
    "    V_w^{\\omega_{nom}} = n_{tur}^{nom} \\left(\\frac{2\\,\\pi}{60}\\right)\\,\\frac{R}{\\lambda_{opt}}\n",
    "\\end{align}\n",
    "\n",
    "The premise for the pitch angle is to remain inactive during this region."
   ]
  },
  {
   "cell_type": "code",
   "execution_count": 19,
   "id": "45c114a8",
   "metadata": {},
   "outputs": [
    {
     "name": "stdout",
     "output_type": "stream",
     "text": [
      "Minimum reference speed -> 151.79128504594684 rad/s\n",
      "Terminal velocity of region 1 -> 8.071323779968116 m/s\n",
      "Nominal reference speed -> 210.17254852515717 rad/s\n",
      "Start velocity of region 3 -> 11.175679079955854 m/s\n"
     ]
    }
   ],
   "source": [
    "# Region 1 - minimum speed\n",
    "Wmin_br = Nmin_tur*(2*np.pi/60)\n",
    "Vw_wmin = Wmin_br*(R/LBD_opt)\n",
    "\n",
    "Wmin = Wmin_br*N\n",
    "print(f'Minimum reference speed -> {Wmin} rad/s')\n",
    "print(f'Terminal velocity of region 1 -> {Vw_wmin} m/s')\n",
    "\n",
    "# Region 3 - nominal\n",
    "Wnom_br = Nnom_tur*(2*np.pi/60)\n",
    "Vw_wnom = Wnom_br*(R/LBD_opt)\n",
    "\n",
    "Wnom = Wnom_br*N\n",
    "print(f'Nominal reference speed -> {Wnom} rad/s')\n",
    "print(f'Start velocity of region 3 -> {Vw_wnom} m/s')"
   ]
  },
  {
   "cell_type": "markdown",
   "id": "7e146c18",
   "metadata": {},
   "source": [
    "### Region 2: Maximum power point tracking\n",
    "The premise of the present region is based on calculating the value associated with the pitch angle and the specific speed of the turbine so that this results in the maximum power coefficient for any given wind speed."
   ]
  },
  {
   "cell_type": "code",
   "execution_count": 20,
   "id": "a34ae88f",
   "metadata": {},
   "outputs": [],
   "source": [
    "# Region 2 - Maximization of the power coefficient\n",
    "def F(Vw):\n",
    "  def f(myVetf):\n",
    "    alpha = (1 / ((R*myVetf[0]/Vw/N) + myVetf[1] * C[7]) - C[8] / (myVetf[1] ** 3 + 1))**-1\n",
    "    Cp = C[0] * (C[1] / alpha - C[2] * myVetf[1] - C[3] * myVetf[1] ** C[4] - C[5]) * np.exp(-C[6] / alpha)\n",
    "    return -Cp\n",
    "  return f\n",
    "\n",
    "# Declaration of vectors\n",
    "Vw_vet = np.linspace(Vw_wmin,Vw_wnom,nstep)\n",
    "Wrm_vetR2 = np.zeros_like(Vw_vet)\n",
    "beta_vetR2 = np.zeros_like(Vw_vet)\n",
    "v0 = [100, 1]\n",
    "\n",
    "# Solver call\n",
    "for k,v in enumerate(Vw_vet):\n",
    "  sol = sci.minimize(F(v), v0, bounds = [[100, 300],[0, 30]]) \n",
    "  Wrm_vetR2[k] = sol.x[0]\n",
    "  beta_vetR2[k] = sol.x[1]"
   ]
  },
  {
   "cell_type": "markdown",
   "id": "cdee7e45",
   "metadata": {},
   "source": [
    "### Region 4: Limiting turbine power\n",
    "To investigate region 4, it is necessary to define the values for the pitch angle so that the power does not exceed the nominal defined for the wind turbine."
   ]
  },
  {
   "cell_type": "code",
   "execution_count": 21,
   "id": "9a84f9ce",
   "metadata": {},
   "outputs": [],
   "source": [
    "# Turbine power functions:\n",
    "def Ptur(Vw, Wtur, beta):\n",
    "  LBD = R * Wtur/Vw\n",
    "  Ptur = 1 / 2 * par * np.pi*R**2 *-CP([LBD, beta])* Vw **3\n",
    "  return Ptur\n",
    "\n",
    "# Fitness function\n",
    "def F(Vw):\n",
    "  def f(beta):\n",
    "    Ptur_nom = Ptur(Vw_nom, Wnom_br, 0)\n",
    "    return Ptur_nom - Ptur(Vw,Wnom_br,beta)\n",
    "  return f\n",
    "\n",
    "# Declaration of vectors\n",
    "Vw_vet = np.linspace(Vw_nom,Vw_max,nstep)\n",
    "beta_vet = np.zeros_like(Vw_vet)\n",
    "v0 = 0\n",
    "\n",
    "# Solver call\n",
    "for k,v in enumerate(Vw_vet):\n",
    "  sol = root(F(v), bracket=(0,35), method='bisect')\n",
    "  beta_vet[k] = sol.root\n",
    "  v0 = beta_vet[k]"
   ]
  },
  {
   "cell_type": "markdown",
   "id": "23d20587",
   "metadata": {},
   "source": [
    "### Creating a view table:\n",
    "The lookup table will be created in this section and relates the reference values for the speed and pitch angle with the wind speeds that the present wind turbine can subject."
   ]
  },
  {
   "cell_type": "code",
   "execution_count": 31,
   "id": "c81a4ef8",
   "metadata": {
    "scrolled": false
   },
   "outputs": [
    {
     "name": "stdout",
     "output_type": "stream",
     "text": [
      "\\begin{tabular}{rrr}\n",
      "\\toprule\n",
      "       Vw &        Wrm &      Beta \\\\\n",
      "\\midrule\n",
      " 4.000000 & 151.791285 &  0.000000 \\\\\n",
      " 4.290809 & 151.791285 &  0.000000 \\\\\n",
      " 4.581618 & 151.791285 &  0.000000 \\\\\n",
      " 4.872427 & 151.791285 &  0.000000 \\\\\n",
      " 5.163235 & 151.791285 &  0.000000 \\\\\n",
      " 5.454044 & 151.791285 &  0.000000 \\\\\n",
      " 5.744853 & 151.791285 &  0.000000 \\\\\n",
      " 6.035662 & 151.791285 &  0.000000 \\\\\n",
      " 6.326471 & 151.791285 &  0.000000 \\\\\n",
      " 6.617280 & 151.791285 &  0.000000 \\\\\n",
      " 6.908088 & 151.791285 &  0.000000 \\\\\n",
      " 7.198897 & 151.791285 &  0.000000 \\\\\n",
      " 7.489706 & 151.791285 &  0.000000 \\\\\n",
      " 7.780515 & 151.791285 &  0.000000 \\\\\n",
      " 8.071324 & 151.791285 &  0.000000 \\\\\n",
      " 8.072324 & 151.784341 &  0.000000 \\\\\n",
      " 8.293992 & 155.947422 &  0.000000 \\\\\n",
      " 8.515660 & 160.096032 &  0.000000 \\\\\n",
      " 8.737328 & 164.385673 &  0.000000 \\\\\n",
      " 8.958997 & 168.450270 &  0.000000 \\\\\n",
      " 9.180665 & 172.636941 &  0.000000 \\\\\n",
      " 9.402333 & 176.766834 &  0.000000 \\\\\n",
      " 9.624001 & 180.850979 &  0.000000 \\\\\n",
      " 9.845670 & 185.176574 &  0.000000 \\\\\n",
      "10.067338 & 189.331892 &  0.000000 \\\\\n",
      "10.289006 & 193.472510 &  0.000000 \\\\\n",
      "10.510674 & 197.798736 &  0.000000 \\\\\n",
      "10.732343 & 201.936203 &  0.000000 \\\\\n",
      "10.954011 & 205.874626 &  0.000000 \\\\\n",
      "11.175679 & 210.164630 &  0.000000 \\\\\n",
      "11.176679 & 210.172549 &  0.000000 \\\\\n",
      "11.235488 & 210.172549 &  0.000000 \\\\\n",
      "11.294296 & 210.172549 &  0.000000 \\\\\n",
      "11.353105 & 210.172549 &  0.000000 \\\\\n",
      "11.411914 & 210.172549 &  0.000000 \\\\\n",
      "11.470722 & 210.172549 &  0.000000 \\\\\n",
      "11.529531 & 210.172549 &  0.000000 \\\\\n",
      "11.588340 & 210.172549 &  0.000000 \\\\\n",
      "11.647148 & 210.172549 &  0.000000 \\\\\n",
      "11.705957 & 210.172549 &  0.000000 \\\\\n",
      "11.764765 & 210.172549 &  0.000000 \\\\\n",
      "11.823574 & 210.172549 &  0.000000 \\\\\n",
      "11.882383 & 210.172549 &  0.000000 \\\\\n",
      "11.941191 & 210.172549 &  0.000000 \\\\\n",
      "12.000000 & 210.172549 &  0.000000 \\\\\n",
      "12.001000 & 210.172549 &  0.000000 \\\\\n",
      "12.929500 & 210.172549 &  3.320384 \\\\\n",
      "13.858000 & 210.172549 & 10.010685 \\\\\n",
      "14.786500 & 210.172549 & 14.688737 \\\\\n",
      "15.715000 & 210.172549 & 18.271938 \\\\\n",
      "16.643500 & 210.172549 & 21.158955 \\\\\n",
      "17.572000 & 210.172549 & 23.556991 \\\\\n",
      "18.500500 & 210.172549 & 25.591567 \\\\\n",
      "19.429000 & 210.172549 & 27.345654 \\\\\n",
      "20.357500 & 210.172549 & 28.877289 \\\\\n",
      "21.286000 & 210.172549 & 30.228743 \\\\\n",
      "22.214500 & 210.172549 & 31.431750 \\\\\n",
      "23.143000 & 210.172549 & 32.510720 \\\\\n",
      "24.071500 & 210.172549 & 33.484802 \\\\\n",
      "25.000000 & 210.172549 & 34.369267 \\\\\n",
      "\\bottomrule\n",
      "\\end{tabular}\n",
      "\n"
     ]
    },
    {
     "name": "stderr",
     "output_type": "stream",
     "text": [
      "/tmp/ipykernel_7568/2777141785.py:27: FutureWarning: In future versions `DataFrame.to_latex` is expected to utilise the base implementation of `Styler.to_latex` for formatting and rendering. The arguments signature may therefore change. It is recommended instead to use `DataFrame.style.to_latex` which also contains additional functionality.\n",
      "  print(lTable.to_latex(index=False))\n"
     ]
    }
   ],
   "source": [
    "vetor_Wrm = np.zeros(int(4*nstep))\n",
    "vetor_Bet = np.zeros(int(4*nstep))\n",
    "\n",
    "Wrm_R1 = Wmin*np.ones(int(nstep))\n",
    "Wrm_R2 = Wrm_vetR2\n",
    "Wrm_R3 = Wnom*np.ones(int(nstep))\n",
    "Wrm_R4 = Wrm_R3\n",
    "vetor_Wrm = np.concatenate((Wrm_R1,Wrm_R2,Wrm_R3,Wrm_R4))\n",
    "\n",
    "Bet_R1 = np.zeros(int(nstep))\n",
    "Bet_R2 = beta_vetR2\n",
    "Bet_R3 = np.zeros(int(nstep))\n",
    "Bet_R4 = beta_vet\n",
    "vetor_Bet = np.concatenate((Bet_R1,Bet_R2,Bet_R3,Bet_R4))\n",
    "\n",
    "Vw_R1 = np.linspace(Vw_min, Vw_wmin, int(nstep))\n",
    "Vw_R2 = np.linspace(Vw_wmin+1e-3, Vw_wnom, int(nstep))\n",
    "Vw_R3 = np.linspace(Vw_wnom+1e-3, Vw_nom, int(nstep))\n",
    "Vw_R4 = np.linspace(Vw_nom +1e-3, Vw_max, int(nstep))\n",
    "vetor_Vw = np.concatenate((Vw_R1,Vw_R2,Vw_R3,Vw_R4))\n",
    "\n",
    "lTable = pd.DataFrame({'Vw': vetor_Vw,\n",
    "                       'Wrm': vetor_Wrm,\n",
    "                       'Beta': vetor_Bet})\n",
    "\n",
    "# lTable\n",
    "print(lTable.to_latex(index=False))  "
   ]
  },
  {
   "cell_type": "code",
   "execution_count": 23,
   "id": "951dff93",
   "metadata": {},
   "outputs": [
    {
     "data": {
      "image/png": "[encoded data removed]",
      "text/plain": [
       "<Figure size 576x288 with 2 Axes>"
      ]
     },
     "metadata": {
      "needs_background": "light"
     },
     "output_type": "display_data"
    }
   ],
   "source": [
    "# Declaração da Figura:\n",
    "fig, [ax1, ax2] = plt.subplots(2, 1, sharex=True)\n",
    "fig.set_size_inches(8, 4)\n",
    "\n",
    "# Plots:\n",
    "ax1.plot(vetor_Vw, vetor_Wrm, color='r')\n",
    "ax2.plot(vetor_Vw, vetor_Bet, color='b')\n",
    "\n",
    "ax1.set(xlabel='',    ylabel='$\\omega_{rm}$ $(rad/s)$')\n",
    "ax2.set(xlabel='$V_w$ (m/s)',    ylabel='$\\\\beta$ $(°)$')\n",
    "\n",
    "ax1.grid(True, linestyle='dotted')\n",
    "ax2.grid(True, linestyle='dotted')\n",
    "\n",
    "plt.show()"
   ]
  }
 ],
 "metadata": {
  "kernelspec": {
   "display_name": "Python 3 (ipykernel)",
   "language": "python",
   "name": "python3"
  },
  "language_info": {
   "codemirror_mode": {
    "name": "ipython",
    "version": 3
   },
   "file_extension": ".py",
   "mimetype": "text/x-python",
   "name": "python",
   "nbconvert_exporter": "python",
   "pygments_lexer": "ipython3",
   "version": "3.9.12"
  }
 },
 "nbformat": 4,
 "nbformat_minor": 5
}
