{
 "cells": [
  {
   "cell_type": "code",
   "execution_count": 1,
   "id": "985396d7",
   "metadata": {},
   "outputs": [],
   "source": [
    "# Importando bibliotecas necessárias:\n",
    "import numpy as np # Numpy para cálculos matemáticos\n",
    "import pandas as pd # Pandas para exibição tabular"
   ]
  },
  {
   "cell_type": "markdown",
   "id": "82251773",
   "metadata": {},
   "source": [
    "### Declaração dos parâmetros necessários:\n",
    "\n",
    "Os parâmetros devem ser declarados na base da máquina, potência de 2 (MW), a velocidade mecânica base de 60 $\\pi$ (rad/s) e a tensão do barramento CC de 1400 (V)."
   ]
  },
  {
   "cell_type": "code",
   "execution_count": 2,
   "id": "6c8dab0f",
   "metadata": {},
   "outputs": [],
   "source": [
    "# Parâmetros associados a máquina:\n",
    "Rr = 0.01 # Resistência associada ao rotor da máquina\n",
    "Ls = 3.1 # Associação da indutância de disperssão do estator e magnetização\n",
    "Lr = 3.08 # Associação da indutância de disperssão do rotor e magnetização\n",
    "Lm = 3.0 # Indutância de magnetização da máquina\n",
    "\n",
    "# Parâmetros associados a estrutura mecânica:\n",
    "Htotal = 4.2 + 0.524 # Constante de inercia total\n",
    "Dtotal = 0 # Atrito viscoso total\n",
    "\n",
    "Lc = 0.04 # Indutância associada ao filtro do lado da rede\n",
    "Ceq = 35.897 # Capacitor do barramento CC"
   ]
  },
  {
   "cell_type": "markdown",
   "id": "479021ff",
   "metadata": {},
   "source": [
    "### Declaração das configurações de controle:\n",
    "Para obter as constantes associadas aos ganhos dos controladores, faz-se necessário escolher as constantes de tempo relativas as malhas, bem como o coeficiente de amortecimento para a analogia com o denominador de sistemas de segunda ordem.\n"
   ]
  },
  {
   "cell_type": "code",
   "execution_count": 3,
   "id": "daab980e",
   "metadata": {},
   "outputs": [],
   "source": [
    "# Configurações de controle:\n",
    "zetaWrm = 1 # Coeficiente de amortecimento da malha de velocidade\n",
    "zetaVcc = 1 # Coeficiente de amortecimento da malha de tensão do barramento CC\n",
    "\n",
    "zetaIqr = 1 # Coeficiente de amortecimento da malha de Iqr\n",
    "zetaIdr = 1 # Coeficiente de amortecimento da malha de Idr\n",
    "zetaIqg = 1 # Coeficiente de amortecimento da malha de Iqg\n",
    "zetaIdg = 1 # Coeficiente de amortecimento da malha de Idg\n",
    "zetaBeta = 1 # Coeficiente de amortecimento para a dinâmica de Beta\n",
    "\n",
    "tsWrm = 5 # Constante de tempo da malha de velocidade\n",
    "tsQs = 1 # Constante de tempo da malha de potência reativa\n",
    "tsVcc = 0.5 # Constante de tempo da malha de tensão do barramento CC\n",
    "tsBeta = 0.1 # Constante de tempo para a dinâmica de Beta\n",
    "\n",
    "tsIqr = 5e-3 # Mínimo tsWrm/10\n",
    "tsIdr = 5e-3 # Mínimo tsQs/10\n",
    "tsIqg = 5e-3 # Mínimo tsVcc/10\n",
    "tsIdg = 5e-3"
   ]
  },
  {
   "cell_type": "markdown",
   "id": "23854c6d",
   "metadata": {},
   "source": [
    "### Justificando ganhos:\n",
    "Em virtude de todas as malhas de controle serem projetadas para controladores mínimos, os sistemas em malha fechada são todos de segunda ordem, o que permite a escolha do coeficiente de amortrcimento juntamente a constante de tempo de acomodação, para o critério de 2%."
   ]
  },
  {
   "cell_type": "code",
   "execution_count": 6,
   "id": "d60c2eee",
   "metadata": {},
   "outputs": [],
   "source": [
    "Lac = Lr - Lm ** 2 / Ls\n",
    "\n",
    "# Criando dicionário com os ganhos relativos as configurações de controle estabelecidas:\n",
    "dictGains = {   \n",
    "                'kpIqr': [8 * Lac / tsIqr - Rr],\n",
    "                'kiIqr': [16 * Lac / (zetaIqr * tsIqr) ** 2],\n",
    "\n",
    "                'kpIdr': [8 * Lac / tsIdr - Rr],\n",
    "                'kiIdr':[16 * Lac / (zetaIdr * tsIdr) ** 2],\n",
    "\n",
    "                'kpIqg': [8 * Lc / tsIqg],\n",
    "                'kiIqg': [16 * Lc / (zetaIqg * tsIqg) ** 2],\n",
    "\n",
    "                'kpIdg': [8 * Lc / tsIdg],\n",
    "                'kiIdg': [16 * Lc / (zetaIdg * tsIdg) ** 2],\n",
    "\n",
    "                'kpWrm': [8 * (2 * Htotal) / tsWrm - Dtotal],\n",
    "                'kiWrm': [16 * (2 * Htotal) / (zetaWrm * tsWrm) ** 2],\n",
    "\n",
    "                'kiQs': [1/tsQs],\n",
    "\n",
    "                'kpVcc': [8 * Ceq / tsVcc],\n",
    "                'kiVcc': [16 * Ceq / (zetaVcc * tsVcc) ** 2],\n",
    "    \n",
    "                'kb': [2 / tsBeta],\n",
    "                'tb': [tsBeta / (8 * zetaBeta ** 2)]\n",
    "            }"
   ]
  },
  {
   "cell_type": "code",
   "execution_count": 7,
   "id": "8a65ef91",
   "metadata": {},
   "outputs": [
    {
     "data": {
      "text/html": [
       "<div>\n",
       "<style scoped>\n",
       "    .dataframe tbody tr th:only-of-type {\n",
       "        vertical-align: middle;\n",
       "    }\n",
       "\n",
       "    .dataframe tbody tr th {\n",
       "        vertical-align: top;\n",
       "    }\n",
       "\n",
       "    .dataframe thead th {\n",
       "        text-align: right;\n",
       "    }\n",
       "</style>\n",
       "<table border=\"1\" class=\"dataframe\">\n",
       "  <thead>\n",
       "    <tr style=\"text-align: right;\">\n",
       "      <th></th>\n",
       "      <th>kpIqr</th>\n",
       "      <th>kiIqr</th>\n",
       "      <th>kpIdr</th>\n",
       "      <th>kiIdr</th>\n",
       "      <th>kpIqg</th>\n",
       "      <th>kiIqg</th>\n",
       "      <th>kpIdg</th>\n",
       "      <th>kiIdg</th>\n",
       "      <th>kpWrm</th>\n",
       "      <th>kiWrm</th>\n",
       "      <th>kiQs</th>\n",
       "      <th>kpVcc</th>\n",
       "      <th>kiVcc</th>\n",
       "    </tr>\n",
       "  </thead>\n",
       "  <tbody>\n",
       "    <tr>\n",
       "      <th>0</th>\n",
       "      <td>282.82871</td>\n",
       "      <td>113135.483871</td>\n",
       "      <td>282.82871</td>\n",
       "      <td>113135.483871</td>\n",
       "      <td>64.0</td>\n",
       "      <td>25600.0</td>\n",
       "      <td>64.0</td>\n",
       "      <td>25600.0</td>\n",
       "      <td>15.1168</td>\n",
       "      <td>6.04672</td>\n",
       "      <td>1.0</td>\n",
       "      <td>574.352</td>\n",
       "      <td>2297.408</td>\n",
       "    </tr>\n",
       "  </tbody>\n",
       "</table>\n",
       "</div>"
      ],
      "text/plain": [
       "       kpIqr          kiIqr      kpIdr          kiIdr  kpIqg    kiIqg  kpIdg  \\\n",
       "0  282.82871  113135.483871  282.82871  113135.483871   64.0  25600.0   64.0   \n",
       "\n",
       "     kiIdg    kpWrm    kiWrm  kiQs    kpVcc     kiVcc  \n",
       "0  25600.0  15.1168  6.04672   1.0  574.352  2297.408  "
      ]
     },
     "execution_count": 7,
     "metadata": {},
     "output_type": "execute_result"
    }
   ],
   "source": [
    "pd.DataFrame(dictGains)"
   ]
  }
 ],
 "metadata": {
  "kernelspec": {
   "display_name": "Python 3 (ipykernel)",
   "language": "python",
   "name": "python3"
  },
  "language_info": {
   "codemirror_mode": {
    "name": "ipython",
    "version": 3
   },
   "file_extension": ".py",
   "mimetype": "text/x-python",
   "name": "python",
   "nbconvert_exporter": "python",
   "pygments_lexer": "ipython3",
   "version": "3.9.12"
  }
 },
 "nbformat": 4,
 "nbformat_minor": 5
}
