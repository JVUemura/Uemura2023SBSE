{
 "cells": [
  {
   "cell_type": "code",
   "execution_count": 1,
   "id": "985396d7",
   "metadata": {},
   "outputs": [],
   "source": [
    "# Import libraries\n",
    "import numpy as np\n",
    "import pandas as pd"
   ]
  },
  {
   "cell_type": "code",
   "execution_count": 2,
   "id": "6c8dab0f",
   "metadata": {},
   "outputs": [],
   "source": [
    "# Parameters:\n",
    "Rr = 0.01\n",
    "Ls = 3.1\n",
    "Lr = 3.08\n",
    "Lm = 3.0\n",
    "\n",
    "Htotal = 4.2 + 0.524\n",
    "Dtotal = 0\n",
    "\n",
    "Lc = 0.04\n",
    "Ceq = 35.897 "
   ]
  },
  {
   "cell_type": "code",
   "execution_count": 3,
   "id": "daab980e",
   "metadata": {},
   "outputs": [],
   "source": [
    "# Control setings:\n",
    "zetaWrm = 1\n",
    "zetaVcc = 1\n",
    "\n",
    "zetaIqr = 1 \n",
    "zetaIdr = 1\n",
    "zetaIqg = 1\n",
    "zetaIdg = 1\n",
    "\n",
    "tsWrm = 5\n",
    "tsQs = 1\n",
    "tsVcc = 0.5\n",
    "\n",
    "tsIqr = 5e-3 # Minimal tsWrm/10\n",
    "tsIdr = 5e-3 # Minimal tsQs/10\n",
    "tsIqg = 5e-3 # Minimal tsVcc/10\n",
    "tsIdg = 5e-3"
   ]
  },
  {
   "cell_type": "code",
   "execution_count": 4,
   "id": "d60c2eee",
   "metadata": {},
   "outputs": [],
   "source": [
    "Lac = Lr - Lm ** 2 / Ls\n",
    "\n",
    "dictGains = {   \n",
    "                'kpIqr': [8 * Lac / tsIqr - Rr],\n",
    "                'kiIqr': [16 * Lac / (zetaIqr * tsIqr) ** 2],\n",
    "\n",
    "                'kpIdr': [8 * Lac / tsIdr - Rr],\n",
    "                'kiIdr':[16 * Lac / (zetaIdr * tsIdr) ** 2],\n",
    "\n",
    "                'kpIqg': [8 * Lc / tsIqg],\n",
    "                'kiIqg': [16 * Lc / (zetaIqg * tsIqg) ** 2],\n",
    "\n",
    "                'kpIdg': [8 * Lc / tsIdg],\n",
    "                'kiIdg': [16 * Lc / (zetaIdg * tsIdg) ** 2],\n",
    "\n",
    "                'kpWrm': [8 * (2 * Htotal) / tsWrm - Dtotal],\n",
    "                'kiWrm': [16 * (2 * Htotal) / (zetaWrm * tsWrm) ** 2],\n",
    "\n",
    "                'kiQs': [1/tsQs],\n",
    "\n",
    "                'kpVcc': [8 * Ceq / tsVcc],\n",
    "                'kiVcc': [16 * Ceq / (zetaVcc * tsVcc) ** 2]\n",
    "            }"
   ]
  },
  {
   "cell_type": "code",
   "execution_count": 5,
   "id": "8a65ef91",
   "metadata": {},
   "outputs": [
    {
     "data": {
      "text/html": [
       "<div>\n",
       "<style scoped>\n",
       "    .dataframe tbody tr th:only-of-type {\n",
       "        vertical-align: middle;\n",
       "    }\n",
       "\n",
       "    .dataframe tbody tr th {\n",
       "        vertical-align: top;\n",
       "    }\n",
       "\n",
       "    .dataframe thead th {\n",
       "        text-align: right;\n",
       "    }\n",
       "</style>\n",
       "<table border=\"1\" class=\"dataframe\">\n",
       "  <thead>\n",
       "    <tr style=\"text-align: right;\">\n",
       "      <th></th>\n",
       "      <th>kpIqr</th>\n",
       "      <th>kiIqr</th>\n",
       "      <th>kpIdr</th>\n",
       "      <th>kiIdr</th>\n",
       "      <th>kpIqg</th>\n",
       "      <th>kiIqg</th>\n",
       "      <th>kpIdg</th>\n",
       "      <th>kiIdg</th>\n",
       "      <th>kpWrm</th>\n",
       "      <th>kiWrm</th>\n",
       "      <th>kiQs</th>\n",
       "      <th>kpVcc</th>\n",
       "      <th>kiVcc</th>\n",
       "    </tr>\n",
       "  </thead>\n",
       "  <tbody>\n",
       "    <tr>\n",
       "      <th>0</th>\n",
       "      <td>28.273871</td>\n",
       "      <td>1131.354839</td>\n",
       "      <td>28.273871</td>\n",
       "      <td>1131.354839</td>\n",
       "      <td>6.4</td>\n",
       "      <td>256.0</td>\n",
       "      <td>6.4</td>\n",
       "      <td>256.0</td>\n",
       "      <td>15.1168</td>\n",
       "      <td>6.04672</td>\n",
       "      <td>1.0</td>\n",
       "      <td>574.352</td>\n",
       "      <td>2297.408</td>\n",
       "    </tr>\n",
       "  </tbody>\n",
       "</table>\n",
       "</div>"
      ],
      "text/plain": [
       "       kpIqr        kiIqr      kpIdr        kiIdr  kpIqg  kiIqg  kpIdg  kiIdg  \\\n",
       "0  28.273871  1131.354839  28.273871  1131.354839    6.4  256.0    6.4  256.0   \n",
       "\n",
       "     kpWrm    kiWrm  kiQs    kpVcc     kiVcc  \n",
       "0  15.1168  6.04672   1.0  574.352  2297.408  "
      ]
     },
     "execution_count": 5,
     "metadata": {},
     "output_type": "execute_result"
    }
   ],
   "source": [
    "pd.DataFrame(dictGains)"
   ]
  }
 ],
 "metadata": {
  "kernelspec": {
   "display_name": "Python 3 (ipykernel)",
   "language": "python",
   "name": "python3"
  },
  "language_info": {
   "codemirror_mode": {
    "name": "ipython",
    "version": 3
   },
   "file_extension": ".py",
   "mimetype": "text/x-python",
   "name": "python",
   "nbconvert_exporter": "python",
   "pygments_lexer": "ipython3",
   "version": "3.9.12"
  }
 },
 "nbformat": 4,
 "nbformat_minor": 5
}
