{
 "cells": [
  {
   "cell_type": "code",
   "execution_count": 1,
   "id": "34943a13",
   "metadata": {},
   "outputs": [],
   "source": [
    "# Import libraries\n",
    "import numpy as np"
   ]
  },
  {
   "cell_type": "code",
   "execution_count": 2,
   "id": "d79f004e",
   "metadata": {},
   "outputs": [],
   "source": [
    "# Parameters:\n",
    "Rr = 0.01\n",
    "Ls = 3.1\n",
    "Lr = 3.08\n",
    "Lm = 3.0\n",
    "\n",
    "Htotal = 4.2 + 0.524\n",
    "Dtotal = 0\n",
    "\n",
    "Lc = 0.04\n",
    "Ceq = 35.897 "
   ]
  },
  {
   "cell_type": "code",
   "execution_count": null,
   "id": "dab7e614",
   "metadata": {},
   "outputs": [],
   "source": [
    "zetaWrm = 1\n",
    "zetaVcc = 1\n",
    "\n",
    "zetaIqr = 1\n",
    "zetaIdr = 1\n",
    "zetaIqg = 1\n",
    "zetaIdg = 1\n",
    "\n",
    "tsWrm = 5\n",
    "tsQs = 1\n",
    "tsVcc = 1\n",
    "tsIqr = 5e-2 \n",
    "tsIdr = 5e-2\n",
    "tsIqg = 5e-2\n",
    "tsIdg = 5e-2"
   ]
  },
  {
   "cell_type": "code",
   "execution_count": null,
   "id": "57f9b5ac",
   "metadata": {},
   "outputs": [],
   "source": [
    "Lac = Lr - Lm ** 2 / Ls\n",
    "\n",
    "kpIqr = 8 * Lac / tsIqr - Rr\n",
    "kiIqr = 16 * Lac / (zetaIqr * tsIqr) ** 2\n",
    "\n",
    "kpIdr = 8 * Lac / tsIdr - Rr\n",
    "kiIdr = 16 * Lac / (zetaIdr * tsIdr) ** 2\n",
    "\n",
    "kpIqg = 8 * Lc / tsIqg\n",
    "kiIqg = 16 * Lc / (zetaIqg * tsIqg) ** 2\n",
    "\n",
    "kpIdg = 8 * Lc / tsIdg\n",
    "kiIdg = 16 * Lc / (zetaIdg * tsIdg) ** 2\n",
    "\n",
    "kpWrm = 8 * (2 * Htotal) / tsWrm - Dtotal\n",
    "kiWrm = 16 * (2 * Htotal) / (zetaWrm * tsWrm) ** 2\n",
    "\n",
    "kiQs = 1/tsQs\n",
    "\n",
    "kpVcc = 8 * Ceq / tsVcc\n",
    "kiVcc = 16 * Ceq / (zetaVcc * tsVcc) ** 2"
   ]
  }
 ],
 "metadata": {
  "kernelspec": {
   "display_name": "Python 3 (ipykernel)",
   "language": "python",
   "name": "python3"
  },
  "language_info": {
   "codemirror_mode": {
    "name": "ipython",
    "version": 3
   },
   "file_extension": ".py",
   "mimetype": "text/x-python",
   "name": "python",
   "nbconvert_exporter": "python",
   "pygments_lexer": "ipython3",
   "version": "3.9.12"
  }
 },
 "nbformat": 4,
 "nbformat_minor": 5
}
