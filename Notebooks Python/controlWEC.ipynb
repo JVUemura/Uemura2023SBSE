{
 "cells": [
  {
   "cell_type": "markdown",
   "id": "9009da5c",
   "metadata": {},
   "source": [
    "### Bibliotecas:\n",
    "Em princípio, é necessário importar as bibliotecas que serão usadas para criar as tabelas de pesquisa."
   ]
  },
  {
   "cell_type": "code",
   "execution_count": 1,
   "id": "02d8d1fc",
   "metadata": {},
   "outputs": [],
   "source": [
    "import numpy as np\n",
    "import scipy.optimize as sci\n",
    "import matplotlib.pyplot as plt\n",
    "from scipy.optimize import root_scalar as root\n",
    "import pandas as pd\n",
    "from scipy.io import savemat"
   ]
  },
  {
   "cell_type": "markdown",
   "id": "c7b66143",
   "metadata": {},
   "source": [
    "### Entrada de dados do usuário:\n",
    "É necessário declarar os parâmetros associados à turbina eólica."
   ]
  },
  {
   "cell_type": "code",
   "execution_count": 2,
   "id": "40e9b850",
   "metadata": {},
   "outputs": [],
   "source": [
    "# Dados mecânicos\n",
    "R = 37.5 # m\n",
    "N = 111.5\n",
    "\n",
    "# Constantes do coeficiente de potência\n",
    "C = [0.22,116,0.4,0,0,5,12.5,0.08,0.035]\n",
    "\n",
    "# Potência nominal\n",
    "P_nom = 2 # MW\n",
    "\n",
    "# Velocidade base:\n",
    "W_base = 60*np.pi\n",
    "\n",
    "# Densidade do ar \n",
    "par = 1.225 #kg/m³\n",
    "\n",
    "# Dados de velocidade da turbina\n",
    "Nmin_tur = 13 # rpm\n",
    "Nnom_tur = 18 # rpm\n",
    "\n",
    "# Dados da velocidade do vento \n",
    "Vw_min =  4 # m/s\n",
    "Vw_nom = 12 # m/s\n",
    "Vw_max = 25 # m/s\n",
    "\n",
    "# Numero de passos por região\n",
    "nstep = 200"
   ]
  },
  {
   "cell_type": "markdown",
   "id": "1cab6a76",
   "metadata": {},
   "source": [
    "### Levantando o coeficiente de potência máxima:\n",
    "Para determinar as velocidades mínima e máxima da turbina, ou seja, as referências das regiões 1 e 3, é necessário encontrar o valor ótimo do coeficiente de potência."
   ]
  },
  {
   "cell_type": "markdown",
   "id": "0478c717",
   "metadata": {},
   "source": [
    "\\begin{gather}\n",
    "\tC_p(\\lambda, \\beta) = C_1 \\left(\\frac{C_2}{\\alpha(\\lambda, \\beta)} - C_3\\,\\beta - C_4\\,\\beta ^{C_5} - C_6 \\right) e^{-\\frac{C_7}{\\alpha(\\lambda, \\beta)}}\n",
    "\t\\label{eq:G3_powerCoef1}\n",
    "\\end{gather}\n",
    "\n",
    "\\begin{gather}\n",
    "\t\\frac{1}{\\alpha(\\lambda, \\beta)} =  \\frac{1}{\\lambda - C_8\\, \\beta} - \\frac{C_9}{\\beta^3 + 1}\n",
    "\t\\label{eq:G3_powerCoef2}\n",
    "\\end{gather}"
   ]
  },
  {
   "cell_type": "code",
   "execution_count": 3,
   "id": "962fc4ed",
   "metadata": {
    "scrolled": true
   },
   "outputs": [
    {
     "name": "stdout",
     "output_type": "stream",
     "text": [
      "Convergiu -> True\n",
      "Coeficiente de potência máximo -> 0.4382090105978689\n",
      "Lambda ótimo -> 6.324969981694354\n",
      "Beta ótimo -> 0.0\n"
     ]
    }
   ],
   "source": [
    "# Função para o coeficiente de potência: \n",
    "def CP(x):\n",
    "  alpha = (1 / (x[0]+ x[1] * C[7]) - C[8] / (x[1] ** 3 + 1))**-1\n",
    "  cp = C[0] * (C[1] / alpha - C[2] * x[1] - C[3] * x[1] ** C[4] - C[5]) * np.exp(-C[6] / alpha)\n",
    "  return -cp\n",
    "\n",
    "# Realizando a otimização\n",
    "opt = sci.minimize(CP,[1,0], bounds = [[0, 30],[0, 30]])\n",
    "\n",
    "LBD_opt = opt.x[0]  # Lambda ótimo\n",
    "Beta_opt = opt.x[1] # Beta ótimo\n",
    "CP_opt = -opt.fun   # CP ótimo\n",
    "\n",
    "print(f'Convergiu -> {opt.success}')\n",
    "print(f'Coeficiente de potência máximo -> {-opt.fun}')\n",
    "print(f'Lambda ótimo -> {opt.x[0]}')\n",
    "print(f'Beta ótimo -> {opt.x[1]}')"
   ]
  },
  {
   "cell_type": "markdown",
   "id": "0072c610",
   "metadata": {},
   "source": [
    "### Região 1 e 3: Seguindo a velocidade mínima e nominal\n",
    "Para a investigação da região 1, é necessário definir a referência de velocidade mínima juntamente com a velocidade do vento que resulta nesta velocidade mínima.\n",
    "\n",
    "\\begin{align}\n",
    "    V_w^{\\omega_{min}} = n_{tur}^{min} \\left(\\frac{2\\,\\pi}{60}\\right)\\,\\frac{R}{\\lambda_{opt}}\n",
    "\\end{align}\n",
    "\n",
    "Para a investigação da região 3, é necessário definir a referência de velocidade nominal juntamente com a velocidade do vento que resulta nesta velocidade nominal.\n",
    "\n",
    "\\begin{align}\n",
    "    V_w^{\\omega_{nom}} = n_{tur}^{nom} \\left(\\frac{2\\,\\pi}{60}\\right)\\,\\frac{R}{\\lambda_{opt}}\n",
    "\\end{align}\n",
    "\n",
    "A premissa para o ângulo de passo é permanecer inativo durante esta região."
   ]
  },
  {
   "cell_type": "code",
   "execution_count": 4,
   "id": "45c114a8",
   "metadata": {
    "scrolled": true
   },
   "outputs": [
    {
     "name": "stdout",
     "output_type": "stream",
     "text": [
      "Velocidade mínima de referência -> 151.79128504594684 rad/s\n",
      "Velocidade terminal de referência para a região 1 -> 8.071323779968116 m/s\n",
      "Velocidade nominal de referência -> 210.17254852515717 rad/s\n",
      "Velocidade terminal de referência para a região 3 -> 11.175679079955854 m/s\n"
     ]
    }
   ],
   "source": [
    "# Region 1 - Velocidade mínima\n",
    "Wmin_br = Nmin_tur*(2*np.pi/60)\n",
    "Vw_wmin = Wmin_br*(R/LBD_opt)\n",
    "\n",
    "Wmin = Wmin_br*N\n",
    "print(f'Velocidade mínima de referência -> {Wmin} rad/s')\n",
    "print(f'Velocidade terminal de referência para a região 1 -> {Vw_wmin} m/s')\n",
    "\n",
    "# Region 3 - Velocidade nominal\n",
    "Wnom_br = Nnom_tur*(2*np.pi/60)\n",
    "Vw_wnom = Wnom_br*(R/LBD_opt)\n",
    "\n",
    "Wnom = Wnom_br*N\n",
    "print(f'Velocidade nominal de referência -> {Wnom} rad/s')\n",
    "print(f'Velocidade terminal de referência para a região 3 -> {Vw_wnom} m/s')"
   ]
  },
  {
   "cell_type": "markdown",
   "id": "7e146c18",
   "metadata": {},
   "source": [
    "### Região 2: Rastreamento do ponto de máxima potência\n",
    "A premissa da presente região baseia-se em calcular o valor associado ao ângulo de passo e à velocidade específica da turbina para que isso resulte no coeficiente de potência máxima para qualquer velocidade do vento dada."
   ]
  },
  {
   "cell_type": "code",
   "execution_count": 5,
   "id": "a34ae88f",
   "metadata": {},
   "outputs": [],
   "source": [
    "# Region 2 - Maximização do coeficiente de potência.\n",
    "def F(Vw):\n",
    "  def f(myVetf):\n",
    "    alpha = (1 / ((R*myVetf[0]/Vw/N) + myVetf[1] * C[7]) - C[8] / (myVetf[1] ** 3 + 1))**-1\n",
    "    Cp = C[0] * (C[1] / alpha - C[2] * myVetf[1] - C[3] * myVetf[1] ** C[4] - C[5]) * np.exp(-C[6] / alpha)\n",
    "    return -Cp\n",
    "  return f\n",
    "\n",
    "# Declaração dos vetores\n",
    "Vw_vet = np.linspace(Vw_wmin,Vw_wnom,nstep)\n",
    "Wrm_vetR2 = np.zeros_like(Vw_vet)\n",
    "beta_vetR2 = np.zeros_like(Vw_vet)\n",
    "v0 = [100, 1]\n",
    "\n",
    "# Chamando solver\n",
    "for k,v in enumerate(Vw_vet):\n",
    "  sol = sci.minimize(F(v), v0, bounds = [[100, 300],[0, 30]]) \n",
    "  Wrm_vetR2[k] = sol.x[0]\n",
    "  beta_vetR2[k] = sol.x[1]"
   ]
  },
  {
   "cell_type": "markdown",
   "id": "cdee7e45",
   "metadata": {},
   "source": [
    "### Região 4: Limitando a potência da turbina\n",
    "Para investigar a região 4, é necessário definir os valores para o ângulo de passo para que a potência não exceda a nominal definida para a turbina eólica, sob velocidade nominal constante."
   ]
  },
  {
   "cell_type": "code",
   "execution_count": 6,
   "id": "9a84f9ce",
   "metadata": {},
   "outputs": [],
   "source": [
    "# Função para o coeficiente de potência:\n",
    "def Ptur(Vw, Wtur, beta):\n",
    "  LBD = R * Wtur/Vw\n",
    "  Ptur = 1 / 2 * par * np.pi*R**2 *-CP([LBD, beta])* Vw **3\n",
    "  return Ptur\n",
    "\n",
    "# Função objetivo\n",
    "def F(Vw):\n",
    "  def f(beta):\n",
    "    Ptur_nom = Ptur(Vw_nom, Wnom_br, 0)\n",
    "    return Ptur_nom - Ptur(Vw,Wnom_br,beta)\n",
    "  return f\n",
    "\n",
    "# Declarando vetores\n",
    "Vw_vet = np.linspace(Vw_nom,Vw_max,nstep)\n",
    "beta_vet = np.zeros_like(Vw_vet)\n",
    "v0 = 0\n",
    "\n",
    "# Chamando solver\n",
    "for k,v in enumerate(Vw_vet):\n",
    "  sol = root(F(v), bracket=(0,35), method='bisect')\n",
    "  beta_vet[k] = sol.root\n",
    "  v0 = beta_vet[k]"
   ]
  },
  {
   "cell_type": "markdown",
   "id": "23d20587",
   "metadata": {},
   "source": [
    "### Criando uma tabela de visualização:\n",
    "A tabela de pesquisa será criada nesta seção e relaciona os valores de referência para a velocidade e ângulo de passo com as velocidades do vento às quais a presente turbina eólica pode estar sujeita."
   ]
  },
  {
   "cell_type": "code",
   "execution_count": 7,
   "id": "c81a4ef8",
   "metadata": {
    "scrolled": false
   },
   "outputs": [],
   "source": [
    "vetor_Wrm = np.zeros(int(4*nstep))\n",
    "vetor_Bet = np.zeros(int(4*nstep))\n",
    "\n",
    "Wrm_R1 = Wmin*np.ones(int(nstep))\n",
    "Wrm_R2 = Wrm_vetR2\n",
    "Wrm_R3 = Wnom*np.ones(int(nstep))\n",
    "Wrm_R4 = Wrm_R3\n",
    "vetor_Wrm = np.concatenate((Wrm_R1,Wrm_R2,Wrm_R3,Wrm_R4))\n",
    "\n",
    "Bet_R1 = np.zeros(int(nstep))\n",
    "Bet_R2 = beta_vetR2\n",
    "Bet_R3 = np.zeros(int(nstep))\n",
    "Bet_R4 = beta_vet\n",
    "vetor_Bet = np.concatenate((Bet_R1,Bet_R2,Bet_R3,Bet_R4))\n",
    "\n",
    "Vw_R1 = np.linspace(Vw_min, Vw_wmin, int(nstep))\n",
    "Vw_R2 = np.linspace(Vw_wmin+1e-3, Vw_wnom, int(nstep))\n",
    "Vw_R3 = np.linspace(Vw_wnom+1e-3, Vw_nom, int(nstep))\n",
    "Vw_R4 = np.linspace(Vw_nom +1e-3, Vw_max, int(nstep))\n",
    "vetor_Vw = np.concatenate((Vw_R1,Vw_R2,Vw_R3,Vw_R4))\n",
    "\n",
    "lTable = pd.DataFrame({'Vw': vetor_Vw,\n",
    "                       'Wrm': vetor_Wrm,\n",
    "                       'Beta': vetor_Bet})\n",
    "\n",
    "# lTable\n",
    "# print(lTable.to_latex(index=False))  "
   ]
  },
  {
   "cell_type": "markdown",
   "id": "d64c486d",
   "metadata": {},
   "source": [
    "### Criando o vetor de potência da turbina:\n",
    "Para a caracterização aerodinâmica da potência de entrada do sistema será utilizada a expressão abaixo, amplamente empregada na literatura, que representa a potência disponível em uma massa de ar ($P_w$), assumindo a velocidade do vento uniforme sobre as pás da turbina.\n",
    "\n",
    "\\begin{gather}\n",
    "\tP_{w} = \\frac{1}{2}\\,\\rho_{ar}\\, A\\,  {V_w}^3\n",
    "\\end{gather}\n",
    "\n",
    "Entretanto, em uma turbina eólica apenas uma parcela da energia disponível na massa de ar é absorvida, devido a característica não ideal de sua aerodinâmica que pode ser representada através de uma função $C_p(\\lambda, \\beta)$. Sendo assim, a potência entregue ao eixo ($P_{tur}$) pode ser expressa como uma quantidade percentual da potência disponível na massa de ar que passa pela turbina.\n",
    "\n",
    "\\begin{gather}\n",
    "\tP_{tur} =  P_{w} \\, C_p(\\lambda, \\beta)\n",
    "\\end{gather}"
   ]
  },
  {
   "cell_type": "code",
   "execution_count": 8,
   "id": "aa55b529",
   "metadata": {},
   "outputs": [],
   "source": [
    "def CP(LBD, BETA): # Função para o coeficiente de potência:\n",
    "  alpha = (1 / (LBD+ BETA * C[7]) - C[8] / (BETA ** 3 + 1))**-1\n",
    "  cp = C[0] * (C[1] / alpha - C[2] * BETA - C[3] * BETA ** C[4] - C[5]) * np.exp(-C[6] / alpha)\n",
    "  return cp\n",
    "\n",
    "vetor_Pot = np.zeros_like(vetor_Vw)\n",
    "vetor_Cp = np.zeros_like(vetor_Vw)\n",
    "A = np.pi*R**2\n",
    "\n",
    "for k,v in enumerate(vetor_Vw):\n",
    "    vetor_Cp[k] = CP(vetor_Wrm[k]*R/v/N, vetor_Bet[k])\n",
    "    vetor_Pot[k] = (vetor_Cp[k])*0.5*par*A*v**3"
   ]
  },
  {
   "cell_type": "code",
   "execution_count": 9,
   "id": "951dff93",
   "metadata": {
    "scrolled": true
   },
   "outputs": [
    {
     "data": {
      "image/png": "[encoded data removed]",
      "text/plain": [
       "<Figure size 576x576 with 4 Axes>"
      ]
     },
     "metadata": {
      "needs_background": "light"
     },
     "output_type": "display_data"
    }
   ],
   "source": [
    "# Declaração da Figura:\n",
    "fig, [ax1, ax2, ax3, ax4] = plt.subplots(4, 1, sharex=True)\n",
    "fig.set_size_inches(8, 8)\n",
    "\n",
    "# Plots:\n",
    "ax1.plot(vetor_Vw, vetor_Pot/(P_nom*1e6), color='0')\n",
    "ax1.plot(vetor_Vw[:200], vetor_Pot[:200]/(P_nom*1e6), 'go', markevery=0.025, label=\"Região 1\")\n",
    "ax1.plot(vetor_Vw[200:400], vetor_Pot[200:400]/(P_nom*1e6), 'r^', markevery=0.025, label=\"Região 2\")\n",
    "ax1.plot(vetor_Vw[400:600], vetor_Pot[400:600]/(P_nom*1e6), 'mx', markevery=0.025, label=\"Região 3\")\n",
    "ax1.plot(vetor_Vw[600:], vetor_Pot[600:]/(P_nom*1e6), 'b<', markevery=0.025, label=\"Região 4\")\n",
    "\n",
    "ax2.plot(vetor_Vw, vetor_Wrm/W_base, color='0')\n",
    "ax2.plot(vetor_Vw[:200], vetor_Wrm[:200]/W_base, 'go', markevery=0.025)\n",
    "ax2.plot(vetor_Vw[200:400], vetor_Wrm[200:400]/W_base, 'r^', markevery=0.025)\n",
    "ax2.plot(vetor_Vw[400:600], vetor_Wrm[400:600]/W_base, 'mx', markevery=0.025)\n",
    "ax2.plot(vetor_Vw[600:], vetor_Wrm[600:]/W_base, 'b<', markevery=0.025)\n",
    "\n",
    "ax3.plot(vetor_Vw, vetor_Bet, color='0')\n",
    "ax3.plot(vetor_Vw[:200], vetor_Bet[:200], 'go', markevery=0.025)\n",
    "ax3.plot(vetor_Vw[200:400], vetor_Bet[200:400], 'r^', markevery=0.025)\n",
    "ax3.plot(vetor_Vw[400:600], vetor_Bet[400:600], 'mx', markevery=0.025)\n",
    "ax3.plot(vetor_Vw[600:], vetor_Bet[600:], 'b<', markevery=0.025)\n",
    "\n",
    "ax4.plot(vetor_Vw, vetor_Cp*100, color='0')\n",
    "ax4.plot(vetor_Vw[:200], vetor_Cp[:200]*100, 'go', markevery=0.025)\n",
    "ax4.plot(vetor_Vw[200:400], vetor_Cp[200:400]*100, 'r^', markevery=0.025)\n",
    "ax4.plot(vetor_Vw[400:600], vetor_Cp[400:600]*100, 'mx', markevery=0.025)\n",
    "ax4.plot(vetor_Vw[600:], vetor_Cp[600:]*100, 'b<', markevery=0.025)\n",
    "\n",
    "ax1.set_xlabel(\"\", fontsize=14)\n",
    "ax1.set_ylabel(\"$P_{tur}$ $(pu)$\", fontsize=14)\n",
    "\n",
    "ax2.set_xlabel(\"\", fontsize=14)\n",
    "ax2.set_ylabel(\"$\\omega_{rm}$ $(pu)$\", fontsize=14)\n",
    "\n",
    "ax3.set_xlabel(\"\", fontsize=14)\n",
    "ax3.set_ylabel(\"$\\\\beta$ $(°)$\", fontsize=14)\n",
    "\n",
    "ax4.set_xlabel(\"$V_w$ (m/s)\", fontsize=14)\n",
    "ax4.set_ylabel(\"$C_p$ (%)\", fontsize=14)\n",
    "\n",
    "ax1.grid(True, linestyle='dotted')\n",
    "ax2.grid(True, linestyle='dotted')\n",
    "ax3.grid(True, linestyle='dotted')\n",
    "ax4.grid(True, linestyle='dotted')\n",
    "\n",
    "ax1.tick_params(axis='x', labelsize=14) \n",
    "ax1.tick_params(axis='y', labelsize=14)\n",
    "\n",
    "ax2.tick_params(axis='x', labelsize=14) \n",
    "ax2.tick_params(axis='y', labelsize=14) \n",
    "\n",
    "ax3.tick_params(axis='x', labelsize=14) \n",
    "ax3.tick_params(axis='y', labelsize=14) \n",
    "\n",
    "ax4.tick_params(axis='x', labelsize=14) \n",
    "ax4.tick_params(axis='y', labelsize=14) \n",
    "\n",
    "ax1.grid(True, linestyle='dotted')\n",
    "ax2.grid(True, linestyle='dotted')\n",
    "ax3.grid(True, linestyle='dotted')\n",
    "ax4.grid(True, linestyle='dotted')\n",
    "\n",
    "ax1.legend(loc='lower right')\n",
    "\n",
    "plt.show()\n",
    "fig.savefig(\"produtoLT.pdf\", bbox_inches='tight', pad_inches=0)"
   ]
  },
  {
   "cell_type": "code",
   "execution_count": 10,
   "id": "2c9f3738",
   "metadata": {},
   "outputs": [],
   "source": [
    "# Exportando as Lookup tables:\n",
    "mybetaR4 = np.array([(Vw_R4-Vw_R4[0]).tolist(), Bet_R4.tolist()]).T\n",
    "savemat('LookupTables/betaR4.mat', {'beta':mybetaR4})\n",
    "\n",
    "Wrmb = 60*np.pi\n",
    "myWrmR2 = np.array([(Vw_R2-Vw_R2[0]).tolist(), (Wrm_R2/Wrmb).tolist()]).T\n",
    "savemat('LookupTables/omegaR2.mat', {'omega':myWrmR2})"
   ]
  }
 ],
 "metadata": {
  "kernelspec": {
   "display_name": "Python 3 (ipykernel)",
   "language": "python",
   "name": "python3"
  },
  "language_info": {
   "codemirror_mode": {
    "name": "ipython",
    "version": 3
   },
   "file_extension": ".py",
   "mimetype": "text/x-python",
   "name": "python",
   "nbconvert_exporter": "python",
   "pygments_lexer": "ipython3",
   "version": "3.9.12"
  }
 },
 "nbformat": 4,
 "nbformat_minor": 5
}
